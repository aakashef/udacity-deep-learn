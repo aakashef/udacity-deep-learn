{
 "cells": [
  {
   "cell_type": "markdown",
   "metadata": {
    "colab_type": "text",
    "id": "kR-4eNdK6lYS"
   },
   "source": [
    "Deep Learning\n",
    "=============\n",
    "\n",
    "Assignment 3\n",
    "------------\n",
    "\n",
    "Previously in `2_fullyconnected.ipynb`, you trained a logistic regression and a neural network model.\n",
    "\n",
    "The goal of this assignment is to explore regularization techniques."
   ]
  },
  {
   "cell_type": "code",
   "execution_count": 1,
   "metadata": {
    "cellView": "both",
    "colab": {
     "autoexec": {
      "startup": false,
      "wait_interval": 0
     }
    },
    "colab_type": "code",
    "collapsed": true,
    "id": "JLpLa8Jt7Vu4"
   },
   "outputs": [],
   "source": [
    "# These are all the modules we'll be using later. Make sure you can import them\n",
    "# before proceeding further.\n",
    "from __future__ import print_function\n",
    "import numpy as np\n",
    "import tensorflow as tf\n",
    "from six.moves import cPickle as pickle"
   ]
  },
  {
   "cell_type": "markdown",
   "metadata": {
    "colab_type": "text",
    "id": "1HrCK6e17WzV"
   },
   "source": [
    "First reload the data we generated in _notmist.ipynb_."
   ]
  },
  {
   "cell_type": "code",
   "execution_count": 2,
   "metadata": {
    "cellView": "both",
    "colab": {
     "autoexec": {
      "startup": false,
      "wait_interval": 0
     },
     "output_extras": [
      {
       "item_id": 1
      }
     ]
    },
    "colab_type": "code",
    "collapsed": false,
    "executionInfo": {
     "elapsed": 11777,
     "status": "ok",
     "timestamp": 1449849322348,
     "user": {
      "color": "",
      "displayName": "",
      "isAnonymous": false,
      "isMe": true,
      "permissionId": "",
      "photoUrl": "",
      "sessionId": "0",
      "userId": ""
     },
     "user_tz": 480
    },
    "id": "y3-cj1bpmuxc",
    "outputId": "e03576f1-ebbe-4838-c388-f1777bcc9873"
   },
   "outputs": [
    {
     "name": "stdout",
     "output_type": "stream",
     "text": [
      "Training set (200000, 28, 28) (200000,)\n",
      "Validation set (8933, 28, 28) (8933,)\n",
      "Test set (8676, 28, 28) (8676,)\n"
     ]
    }
   ],
   "source": [
    "pickle_file = 'notMNIST.pickle'\n",
    "\n",
    "with open(pickle_file, 'rb') as f:\n",
    "  save = pickle.load(f)\n",
    "  train_dataset = save['train_dataset']\n",
    "  train_labels = save['train_labels']\n",
    "  valid_dataset = save['valid_dataset']\n",
    "  valid_labels = save['valid_labels']\n",
    "  test_dataset = save['test_dataset']\n",
    "  test_labels = save['test_labels']\n",
    "  del save  # hint to help gc free up memory\n",
    "  print('Training set', train_dataset.shape, train_labels.shape)\n",
    "  print('Validation set', valid_dataset.shape, valid_labels.shape)\n",
    "  print('Test set', test_dataset.shape, test_labels.shape)"
   ]
  },
  {
   "cell_type": "markdown",
   "metadata": {
    "colab_type": "text",
    "id": "L7aHrm6nGDMB"
   },
   "source": [
    "Reformat into a shape that's more adapted to the models we're going to train:\n",
    "- data as a flat matrix,\n",
    "- labels as float 1-hot encodings."
   ]
  },
  {
   "cell_type": "code",
   "execution_count": 3,
   "metadata": {
    "cellView": "both",
    "colab": {
     "autoexec": {
      "startup": false,
      "wait_interval": 0
     },
     "output_extras": [
      {
       "item_id": 1
      }
     ]
    },
    "colab_type": "code",
    "collapsed": false,
    "executionInfo": {
     "elapsed": 11728,
     "status": "ok",
     "timestamp": 1449849322356,
     "user": {
      "color": "",
      "displayName": "",
      "isAnonymous": false,
      "isMe": true,
      "permissionId": "",
      "photoUrl": "",
      "sessionId": "0",
      "userId": ""
     },
     "user_tz": 480
    },
    "id": "IRSyYiIIGIzS",
    "outputId": "3f8996ee-3574-4f44-c953-5c8a04636582"
   },
   "outputs": [
    {
     "name": "stdout",
     "output_type": "stream",
     "text": [
      "Training set (200000, 784) (200000, 10)\n",
      "Validation set (8933, 784) (8933, 10)\n",
      "Test set (8676, 784) (8676, 10)\n"
     ]
    }
   ],
   "source": [
    "image_size = 28\n",
    "num_labels = 10\n",
    "\n",
    "def reformat(dataset, labels):\n",
    "  dataset = dataset.reshape((-1, image_size * image_size)).astype(np.float32)\n",
    "  # Map 1 to [0.0, 1.0, 0.0 ...], 2 to [0.0, 0.0, 1.0 ...]\n",
    "  labels = (np.arange(num_labels) == labels[:,None]).astype(np.float32)\n",
    "  return dataset, labels\n",
    "train_dataset, train_labels = reformat(train_dataset, train_labels)\n",
    "valid_dataset, valid_labels = reformat(valid_dataset, valid_labels)\n",
    "test_dataset, test_labels = reformat(test_dataset, test_labels)\n",
    "print('Training set', train_dataset.shape, train_labels.shape)\n",
    "print('Validation set', valid_dataset.shape, valid_labels.shape)\n",
    "print('Test set', test_dataset.shape, test_labels.shape)"
   ]
  },
  {
   "cell_type": "code",
   "execution_count": 4,
   "metadata": {
    "cellView": "both",
    "colab": {
     "autoexec": {
      "startup": false,
      "wait_interval": 0
     }
    },
    "colab_type": "code",
    "collapsed": true,
    "id": "RajPLaL_ZW6w"
   },
   "outputs": [],
   "source": [
    "def accuracy(predictions, labels):\n",
    "  return (100.0 * np.sum(np.argmax(predictions, 1) == np.argmax(labels, 1))\n",
    "          / predictions.shape[0])"
   ]
  },
  {
   "cell_type": "markdown",
   "metadata": {
    "colab_type": "text",
    "id": "sgLbUAQ1CW-1"
   },
   "source": [
    "---\n",
    "Problem 1\n",
    "---------\n",
    "\n",
    "Introduce and tune L2 regularization for both logistic and neural network models. Remember that L2 amounts to adding a penalty on the norm of the weights to the loss. In TensorFlow, you can compute the L2 loss for a tensor `t` using `nn.l2_loss(t)`. The right amount of regularization should improve your validation / test accuracy.\n",
    "\n",
    "---"
   ]
  },
  {
   "cell_type": "markdown",
   "metadata": {},
   "source": [
    "Implementing L2 regularization in logistic regression."
   ]
  },
  {
   "cell_type": "code",
   "execution_count": 5,
   "metadata": {
    "collapsed": false
   },
   "outputs": [],
   "source": [
    "batch_size = 128\n",
    "learning_rate = 0.5\n",
    "beta = 0.001\n",
    "\n",
    "graph = tf.Graph()\n",
    "with graph.as_default():\n",
    "    # Input data: the training data will be fed at run-time with a training minibatch\n",
    "    tf_train_dataset = tf.placeholder(tf.float32,\n",
    "                                     shape=(batch_size, image_size * image_size))\n",
    "    tf_train_label = tf.placeholder(tf.float32, shape=(batch_size, num_labels))\n",
    "    tf_valid_dataset = tf.constant(valid_dataset)\n",
    "    tf_test_dataset = tf.constant(test_dataset)\n",
    "    \n",
    "    # Variables\n",
    "    weights = tf.Variable(tf.truncated_normal([image_size * image_size, num_labels]))\n",
    "    biases = tf.Variable(tf.zeros([num_labels]))\n",
    "    \n",
    "    # Training computations\n",
    "    logits = tf.matmul(tf_train_dataset, weights) + biases\n",
    "    loss = tf.reduce_mean(tf.nn.softmax_cross_entropy_with_logits(logits, tf_train_label))\n",
    "    \n",
    "    # Add regularization term to the loss\n",
    "    loss += beta * tf.nn.l2_loss(weights)\n",
    "    \n",
    "    # Optimizer\n",
    "    optimizer = tf.train.GradientDescentOptimizer(learning_rate).minimize(loss)\n",
    "    \n",
    "    # Prediction for training, validation and test data\n",
    "    train_predictions = tf.nn.softmax(logits)\n",
    "    valid_predictions = tf.nn.softmax(tf.matmul(tf_valid_dataset, weights) + biases)\n",
    "    test_predictions = tf.nn.softmax(tf.matmul(tf_test_dataset, weights) + biases)"
   ]
  },
  {
   "cell_type": "code",
   "execution_count": 6,
   "metadata": {
    "collapsed": false
   },
   "outputs": [
    {
     "name": "stdout",
     "output_type": "stream",
     "text": [
      "Initialized\n",
      "Minibatch loss as step 0: 20.046879\n",
      "Minibatch accuracy: 11.7\n",
      "Validation set accuracy: 12.7\n",
      "Minibatch loss as step 500: 2.633559\n",
      "Minibatch accuracy: 82.0\n",
      "Validation set accuracy: 74.6\n",
      "Minibatch loss as step 1000: 1.912636\n",
      "Minibatch accuracy: 76.6\n",
      "Validation set accuracy: 77.3\n",
      "Minibatch loss as step 1500: 0.927046\n",
      "Minibatch accuracy: 87.5\n",
      "Validation set accuracy: 79.0\n",
      "Minibatch loss as step 2000: 0.836806\n",
      "Minibatch accuracy: 85.9\n",
      "Validation set accuracy: 80.1\n",
      "Minibatch loss as step 2500: 0.830232\n",
      "Minibatch accuracy: 79.7\n",
      "Validation set accuracy: 80.5\n",
      "Minibatch loss as step 3000: 0.810228\n",
      "Minibatch accuracy: 82.0\n",
      "Validation set accuracy: 81.0\n",
      "Test set accuracy: 88.0\n"
     ]
    }
   ],
   "source": [
    "num_steps = 3001\n",
    "\n",
    "with tf.Session(graph=graph) as session:\n",
    "    tf.initialize_all_variables().run()\n",
    "    print ('Initialized')\n",
    "    for step in range(num_steps):\n",
    "        # Pick a randomized offset\n",
    "        offset = (step * batch_size) % (train_labels.shape[0] - batch_size)\n",
    "        # Generate a minibatch\n",
    "        batch_data = train_dataset[offset:(offset+batch_size), :]\n",
    "        batch_labels = train_labels[offset:(offset+batch_size), :]\n",
    "        # Prepare a dictionary to tell the session where to feed the minibatch\n",
    "        # The key of the dictionary is the placeholder node of the graph to be fed\n",
    "        # and the value is the numpy array to be fed\n",
    "        feed_dict = {tf_train_dataset: batch_data, tf_train_label: batch_labels}\n",
    "        _, l, predictions = session.run([optimizer, loss, train_predictions], feed_dict=feed_dict)\n",
    "        if (step % 500 == 0):\n",
    "            print ('Minibatch loss as step %d: %f' %(step, l) )\n",
    "            print ('Minibatch accuracy: %.1f' % accuracy(predictions, batch_labels))\n",
    "            print ('Validation set accuracy: %.1f' % accuracy(valid_predictions.eval(), valid_labels))\n",
    "    print ('Test set accuracy: %.1f' % accuracy(test_predictions.eval(), test_labels))\n",
    "    session.close()"
   ]
  },
  {
   "cell_type": "markdown",
   "metadata": {},
   "source": [
    "Implementing this for the neural network models"
   ]
  },
  {
   "cell_type": "code",
   "execution_count": 7,
   "metadata": {
    "collapsed": false
   },
   "outputs": [],
   "source": [
    "batch_size = 128\n",
    "hidden_nodes = 1024\n",
    "learning_rate = 0.5\n",
    "beta = 0.001\n",
    "\n",
    "graph = tf.Graph()\n",
    "\n",
    "with graph.as_default():\n",
    "    # Input data: the training data will be fed at run-time with a training minibatch\n",
    "    tf_train_dataset = tf.placeholder(tf.float32, shape=(batch_size, image_size * image_size))\n",
    "    tf_train_label = tf.placeholder(tf.float32, shape=(batch_size, num_labels))\n",
    "    tf_valid_dataset = tf.constant(valid_dataset)\n",
    "    tf_test_dataset = tf.constant(test_dataset)\n",
    "    \n",
    "    # Variables\n",
    "    hidden_weights = tf.Variable(tf.truncated_normal([image_size * image_size, hidden_nodes]))\n",
    "    hidden_biases = tf.Variable(tf.zeros([hidden_nodes]))\n",
    "    \n",
    "    weights = tf.Variable(tf.truncated_normal([hidden_nodes, num_labels]))\n",
    "    biases = tf.Variable(tf.zeros([num_labels]))\n",
    "    \n",
    "    # Training \n",
    "    def forward_prop(input):\n",
    "        h1 = tf.nn.relu(tf.matmul(input, hidden_weights) + hidden_biases)\n",
    "        return tf.matmul(h1, weights) + biases\n",
    "    logits = forward_prop(tf_train_dataset)\n",
    "    loss = tf.reduce_mean(tf.nn.softmax_cross_entropy_with_logits(logits, tf_train_label))\n",
    "    \n",
    "    # Regularized loss\n",
    "    loss += beta * (tf.nn.l2_loss(hidden_weights) + tf.nn.l2_loss(weights))\n",
    "    \n",
    "    # Optimized\n",
    "    optimizer = tf.train.GradientDescentOptimizer(learning_rate).minimize(loss)\n",
    "    \n",
    "    # Predictions\n",
    "    train_prediction = tf.nn.softmax(logits)\n",
    "    valid_prediction = tf.nn.softmax(forward_prop(tf_valid_dataset))\n",
    "    test_prediction = tf.nn.softmax(forward_prop(tf_test_dataset))"
   ]
  },
  {
   "cell_type": "code",
   "execution_count": 8,
   "metadata": {
    "collapsed": false
   },
   "outputs": [
    {
     "name": "stdout",
     "output_type": "stream",
     "text": [
      "Initialized\n",
      "Minibatch loss as step 0: 776.120483\n",
      "Minibatch accuracy: 8.6\n",
      "Validation set accuracy: 34.8\n",
      "Minibatch loss as step 500: 206.127686\n",
      "Minibatch accuracy: 74.2\n",
      "Validation set accuracy: 75.1\n",
      "Minibatch loss as step 1000: 114.964447\n",
      "Minibatch accuracy: 81.2\n",
      "Validation set accuracy: 80.5\n",
      "Minibatch loss as step 1500: 68.775558\n",
      "Minibatch accuracy: 88.3\n",
      "Validation set accuracy: 82.0\n",
      "Minibatch loss as step 2000: 41.297981\n",
      "Minibatch accuracy: 89.8\n",
      "Validation set accuracy: 83.6\n",
      "Minibatch loss as step 2500: 25.220226\n",
      "Minibatch accuracy: 85.2\n",
      "Validation set accuracy: 84.1\n",
      "Minibatch loss as step 3000: 15.459583\n",
      "Minibatch accuracy: 86.7\n",
      "Validation set accuracy: 85.1\n",
      "Test set accuracy: 92.1\n"
     ]
    }
   ],
   "source": [
    "num_steps = 3001\n",
    "\n",
    "with tf.Session(graph=graph) as session:\n",
    "    tf.initialize_all_variables().run()\n",
    "    print('Initialized')\n",
    "    for step in range(num_steps):\n",
    "        # Pick a randomized offset\n",
    "        offset = (step * batch_size) % (train_labels.shape[0] - batch_size)\n",
    "        # Generate a minibatch\n",
    "        batch_data = train_dataset[offset:(offset + batch_size), :]\n",
    "        batch_labels = train_labels[offset:(offset + batch_size)]\n",
    "        # Prepare a dictionary to tell the session where to feed the minibatch\n",
    "        # The key of the dictionary is the placeholder node of the graph to be fed\n",
    "        # and the value is the numpy array to be fed\n",
    "        feed_dict = {tf_train_dataset: batch_data, tf_train_label:batch_labels}\n",
    "        _, l, predictions = session.run([optimizer, loss, train_prediction], feed_dict=feed_dict)\n",
    "        if (step % 500 == 0):\n",
    "            print ('Minibatch loss as step %d: %f' %(step, l) )\n",
    "            print ('Minibatch accuracy: %.1f' % accuracy(predictions, batch_labels))\n",
    "            print ('Validation set accuracy: %.1f' % accuracy(valid_prediction.eval(), valid_labels))\n",
    "    print ('Test set accuracy: %.1f' % accuracy(test_prediction.eval(), test_labels))\n",
    "    session.close()"
   ]
  },
  {
   "cell_type": "markdown",
   "metadata": {
    "colab_type": "text",
    "id": "na8xX2yHZzNF"
   },
   "source": [
    "---\n",
    "Problem 2\n",
    "---------\n",
    "Let's demonstrate an extreme case of overfitting. Restrict your training data to just a few batches. What happens?\n",
    "\n",
    "---"
   ]
  },
  {
   "cell_type": "code",
   "execution_count": 9,
   "metadata": {
    "collapsed": false
   },
   "outputs": [
    {
     "name": "stdout",
     "output_type": "stream",
     "text": [
      "Initialized\n",
      "Minibatch loss as step 0: 571.668335\n",
      "Minibatch accuracy: 15.6\n",
      "Validation set accuracy: 32.5\n",
      "Minibatch loss as step 500: 190.133957\n",
      "Minibatch accuracy: 100.0\n",
      "Validation set accuracy: 75.4\n",
      "Minibatch loss as step 1000: 115.307770\n",
      "Minibatch accuracy: 100.0\n",
      "Validation set accuracy: 75.4\n",
      "Minibatch loss as step 1500: 69.929047\n",
      "Minibatch accuracy: 100.0\n",
      "Validation set accuracy: 75.4\n",
      "Minibatch loss as step 2000: 42.408825\n",
      "Minibatch accuracy: 100.0\n",
      "Validation set accuracy: 75.3\n",
      "Minibatch loss as step 2500: 25.719307\n",
      "Minibatch accuracy: 100.0\n",
      "Validation set accuracy: 75.2\n",
      "Minibatch loss as step 3000: 15.598632\n",
      "Minibatch accuracy: 100.0\n",
      "Validation set accuracy: 75.4\n",
      "Test set accuracy: 83.6\n"
     ]
    }
   ],
   "source": [
    "num_steps = 3001\n",
    "\n",
    "with tf.Session(graph=graph) as session:\n",
    "    tf.initialize_all_variables().run()\n",
    "    print('Initialized')\n",
    "    for step in range(num_steps):\n",
    "        # Pick a randomized offset\n",
    "        offset = batch_size * np.random.choice(np.arange(5))\n",
    "        # Generate a minibatch\n",
    "        batch_data = train_dataset[offset:(offset + batch_size), :]\n",
    "        batch_labels = train_labels[offset:(offset + batch_size)]\n",
    "        # Prepare a dictionary to tell the session where to feed the minibatch\n",
    "        # The key of the dictionary is the placeholder node of the graph to be fed\n",
    "        # and the value is the numpy array to be fed\n",
    "        feed_dict = {tf_train_dataset: batch_data, tf_train_label:batch_labels}\n",
    "        _, l, predictions = session.run([optimizer, loss, train_prediction], feed_dict=feed_dict)\n",
    "        if (step % 500 == 0):\n",
    "            print ('Minibatch loss as step %d: %f' %(step, l) )\n",
    "            print ('Minibatch accuracy: %.1f' % accuracy(predictions, batch_labels))\n",
    "            print ('Validation set accuracy: %.1f' % accuracy(valid_prediction.eval(), valid_labels))\n",
    "    print ('Test set accuracy: %.1f' % accuracy(test_prediction.eval(), test_labels))\n",
    "    session.close()"
   ]
  },
  {
   "cell_type": "markdown",
   "metadata": {},
   "source": [
    "This is overfitting as this fits the training dataset very accurately but not so for validation and test dataset"
   ]
  },
  {
   "cell_type": "markdown",
   "metadata": {
    "colab_type": "text",
    "id": "ww3SCBUdlkRc"
   },
   "source": [
    "---\n",
    "Problem 3\n",
    "---------\n",
    "Introduce Dropout on the hidden layer of the neural network. Remember: Dropout should only be introduced during training, not evaluation, otherwise your evaluation results would be stochastic as well. TensorFlow provides `nn.dropout()` for that, but you have to make sure it's only inserted during training.\n",
    "\n",
    "What happens to our extreme overfitting case?\n",
    "\n",
    "---"
   ]
  },
  {
   "cell_type": "code",
   "execution_count": 10,
   "metadata": {
    "collapsed": false
   },
   "outputs": [],
   "source": [
    "batch_size = 128\n",
    "hidden_nodes = 1024\n",
    "learning_rate = 0.5\n",
    "beta = 0.001\n",
    "\n",
    "graph = tf.Graph()\n",
    "\n",
    "with graph.as_default():\n",
    "    # Input data\n",
    "    tf_train_dataset = tf.placeholder(tf.float32, shape = (batch_size, image_size * image_size))\n",
    "    tf_train_label = tf.placeholder(tf.float32, shape= (batch_size, num_labels))\n",
    "    tf_valid_dataset = tf.constant(valid_dataset)\n",
    "    tf_test_dataset = tf.constant(test_dataset)\n",
    "    \n",
    "    # Placeholder to control the dropout probability\n",
    "    keep_prob = tf.placeholder(tf.float32)\n",
    "    \n",
    "    # Variables\n",
    "    hidden_weights = tf.Variable(tf.truncated_normal([image_size * image_size, hidden_nodes]))\n",
    "    hidden_biases = tf.Variable(tf.zeros([hidden_nodes]))\n",
    "    \n",
    "    weights = tf.Variable(tf.truncated_normal([hidden_nodes, num_labels]))\n",
    "    biases = tf.Variable(tf.zeros([num_labels]))\n",
    "    \n",
    "    # Training \n",
    "    def forward_prop_with_dropout(input):\n",
    "        h1 = tf.nn.relu(tf.matmul(input, hidden_weights) + hidden_biases)\n",
    "        drop = tf.nn.dropout(h1, keep_prob)\n",
    "        return tf.matmul(drop, weights) + biases\n",
    "    \n",
    "    def forward_prop_without_dropout(input):\n",
    "        h1 = tf.nn.relu(tf.matmul(input, hidden_weights) + hidden_biases)\n",
    "        return tf.matmul(h1, weights) + biases\n",
    "    \n",
    "    logits = forward_prop_with_dropout(tf_train_dataset)\n",
    "    loss = tf.reduce_mean(tf.nn.softmax_cross_entropy_with_logits(logits, tf_train_label))\n",
    "    \n",
    "    # Add regularization\n",
    "    loss += beta * (tf.nn.l2_loss(hidden_weights) + tf.nn.l2_loss(weights))\n",
    "    \n",
    "    # Optimizer\n",
    "    optimizer = tf.train.GradientDescentOptimizer(learning_rate).minimize(loss)\n",
    "    \n",
    "    # Predictions\n",
    "    train_prediction = tf.nn.softmax(logits)\n",
    "    valid_prediction = tf.nn.softmax(forward_prop_without_dropout(tf_valid_dataset))\n",
    "    test_prediction = tf.nn.softmax(forward_prop_without_dropout(tf_test_dataset))"
   ]
  },
  {
   "cell_type": "markdown",
   "metadata": {},
   "source": [
    "Running with keep probability as `0.5`"
   ]
  },
  {
   "cell_type": "code",
   "execution_count": 11,
   "metadata": {
    "collapsed": false
   },
   "outputs": [
    {
     "name": "stdout",
     "output_type": "stream",
     "text": [
      "Initialized\n",
      "Minibatch loss as step 0: 808.932373\n",
      "Minibatch accuracy: 5.5\n",
      "Validation set accuracy: 34.5\n",
      "Minibatch loss as step 500: 207.660065\n",
      "Minibatch accuracy: 77.3\n",
      "Validation set accuracy: 79.3\n",
      "Minibatch loss as step 1000: 117.887054\n",
      "Minibatch accuracy: 72.7\n",
      "Validation set accuracy: 80.2\n",
      "Minibatch loss as step 1500: 69.669426\n",
      "Minibatch accuracy: 85.2\n",
      "Validation set accuracy: 80.2\n",
      "Minibatch loss as step 2000: 41.560295\n",
      "Minibatch accuracy: 85.2\n",
      "Validation set accuracy: 82.4\n",
      "Minibatch loss as step 2500: 25.311958\n",
      "Minibatch accuracy: 82.8\n",
      "Validation set accuracy: 83.7\n",
      "Minibatch loss as step 3000: 15.583403\n",
      "Minibatch accuracy: 83.6\n",
      "Validation set accuracy: 84.6\n",
      "Test set accuracy: 91.4\n"
     ]
    }
   ],
   "source": [
    "num_steps = 3001\n",
    "\n",
    "with tf.Session(graph=graph) as session:\n",
    "    tf.initialize_all_variables().run()\n",
    "    print('Initialized')\n",
    "    for step in range(num_steps):\n",
    "        # Pick a randomized offset\n",
    "        offset = (step * batch_size) % (train_labels.shape[0] - batch_size)\n",
    "        # Generate a minibatch\n",
    "        batch_data = train_dataset[offset:(offset + batch_size), :]\n",
    "        batch_labels = train_labels[offset:(offset + batch_size)]\n",
    "        # Prepare a dictionary to tell the session where to feed the minibatch\n",
    "        # The key of the dictionary is the placeholder node of the graph to be fed\n",
    "        # and the value is the numpy array to be fed\n",
    "        feed_dict = {tf_train_dataset: batch_data, tf_train_label:batch_labels, keep_prob: 0.5}\n",
    "        _, l, predictions = session.run([optimizer, loss, train_prediction], feed_dict=feed_dict)\n",
    "        if (step % 500 == 0):\n",
    "            print ('Minibatch loss as step %d: %f' %(step, l) )\n",
    "            print ('Minibatch accuracy: %.1f' % accuracy(predictions, batch_labels))\n",
    "            print ('Validation set accuracy: %.1f' % accuracy(valid_prediction.eval(session=session), valid_labels))\n",
    "    print ('Test set accuracy: %.1f' % accuracy(test_prediction.eval(session=session), test_labels))\n",
    "    session.close()"
   ]
  },
  {
   "cell_type": "markdown",
   "metadata": {},
   "source": [
    "Running for the case of overfitting"
   ]
  },
  {
   "cell_type": "code",
   "execution_count": 12,
   "metadata": {
    "collapsed": false
   },
   "outputs": [
    {
     "name": "stdout",
     "output_type": "stream",
     "text": [
      "Initialized\n",
      "Minibatch loss as step 0: 726.044312\n",
      "Minibatch accuracy: 13.3\n",
      "Validation set accuracy: 32.9\n",
      "Minibatch loss as step 500: 191.901215\n",
      "Minibatch accuracy: 100.0\n",
      "Validation set accuracy: 78.6\n",
      "Minibatch loss as step 1000: 116.451591\n",
      "Minibatch accuracy: 100.0\n",
      "Validation set accuracy: 78.1\n",
      "Minibatch loss as step 1500: 70.645576\n",
      "Minibatch accuracy: 100.0\n",
      "Validation set accuracy: 78.2\n",
      "Minibatch loss as step 2000: 42.879822\n",
      "Minibatch accuracy: 99.2\n",
      "Validation set accuracy: 79.1\n",
      "Minibatch loss as step 2500: 25.990646\n",
      "Minibatch accuracy: 100.0\n",
      "Validation set accuracy: 78.8\n",
      "Minibatch loss as step 3000: 15.767083\n",
      "Minibatch accuracy: 100.0\n",
      "Validation set accuracy: 78.6\n",
      "Test set accuracy: 85.9\n"
     ]
    }
   ],
   "source": [
    "num_steps = 3001\n",
    "\n",
    "with tf.Session(graph=graph) as session:\n",
    "    tf.initialize_all_variables().run()\n",
    "    print('Initialized')\n",
    "    for step in range(num_steps):\n",
    "        # Pick a randomized offset\n",
    "        offset = batch_size * np.random.choice(np.arange(5))\n",
    "        # Generate a minibatch\n",
    "        batch_data = train_dataset[offset:(offset + batch_size), :]\n",
    "        batch_labels = train_labels[offset:(offset + batch_size)]\n",
    "        # Prepare a dictionary to tell the session where to feed the minibatch\n",
    "        # The key of the dictionary is the placeholder node of the graph to be fed\n",
    "        # and the value is the numpy array to be fed\n",
    "        feed_dict = {tf_train_dataset: batch_data, tf_train_label:batch_labels, keep_prob: 0.5}\n",
    "        _, l, predictions = session.run([optimizer, loss, train_prediction], feed_dict=feed_dict)\n",
    "        if (step % 500 == 0):\n",
    "            print ('Minibatch loss as step %d: %f' %(step, l) )\n",
    "            print ('Minibatch accuracy: %.1f' % accuracy(predictions, batch_labels))\n",
    "            print ('Validation set accuracy: %.1f' % accuracy(valid_prediction.eval(session=session), valid_labels))\n",
    "    print ('Test set accuracy: %.1f' % accuracy(test_prediction.eval(session=session), test_labels))\n",
    "    session.close()"
   ]
  },
  {
   "cell_type": "markdown",
   "metadata": {},
   "source": [
    "With dropout even in the case of overfitting there is a better performance achieved on the test data"
   ]
  },
  {
   "cell_type": "markdown",
   "metadata": {
    "colab_type": "text",
    "id": "-b1hTz3VWZjw"
   },
   "source": [
    "---\n",
    "Problem 4\n",
    "---------\n",
    "\n",
    "Try to get the best performance you can using a multi-layer model! The best reported test accuracy using a deep network is [97.1%](http://yaroslavvb.blogspot.com/2011/09/notmnist-dataset.html?showComment=1391023266211#c8758720086795711595).\n",
    "\n",
    "One avenue you can explore is to add multiple layers.\n",
    "\n",
    "Another one is to use learning rate decay:\n",
    "\n",
    "    global_step = tf.Variable(0)  # count the number of steps taken.\n",
    "    learning_rate = tf.train.exponential_decay(0.5, global_step, ...)\n",
    "    optimizer = tf.train.GradientDescentOptimizer(learning_rate).minimize(loss, global_step=global_step)\n",
    " \n",
    " ---\n"
   ]
  },
  {
   "cell_type": "code",
   "execution_count": null,
   "metadata": {
    "collapsed": false
   },
   "outputs": [],
   "source": [
    "batch_size = 128\n",
    "\n",
    "hidden_layer_1_size = 1024\n",
    "hidden_layer_2_size = 512\n",
    "hidden_layer_3_size = 256\n",
    "hidden_layer_1_stddev = np.sqrt(2.0/784) \n",
    "hidden_layer_2_stddev = np.sqrt(2.0/hidden_layer_1_size)\n",
    "hidden_layer_3_stddev = np.sqrt(2.0/hidden_layer_2_size)\n",
    "output_layer_stddev = np.sqrt(2.0/hidden_layer_3_size)\n",
    "hidden_layer_1_keep_prob = 0.5\n",
    "hidden_layer_2_keep_prob = 0.6\n",
    "hidden_layer_3_keep_prob = 0.7\n",
    "beta_1 = 0.0001\n",
    "beta_2 = 0.0001\n",
    "beta_3 = 0.0001\n",
    "beta_4 = 0.0001\n",
    "\n",
    "deep_graph = tf.Graph()\n",
    "with deep_graph.as_default():\n",
    "    tf_train_dataset = tf.placeholder(tf.float32, shape=(batch_size, image_size * image_size))\n",
    "    tf_train_labels = tf.placeholder(tf.float32, shape=(batch_size, num_labels))\n",
    "    tf_valid_dataset = tf.constant(valid_dataset)\n",
    "    tf_test_dataset = tf.constant(test_dataset)\n",
    "\n",
    "    # first hidden layer\n",
    "    hidden_layer_1_weights = tf.Variable(tf.truncated_normal([image_size * image_size, hidden_layer_1_size],\n",
    "                                                             stddev=hidden_layer_1_stddev))\n",
    "    hidden_layer_1_biases = tf.Variable(tf.zeros([hidden_layer_1_size]))  \n",
    "\n",
    "    # second hidden layer\n",
    "    hidden_layer_2_weights = tf.Variable(tf.truncated_normal([hidden_layer_1_size, hidden_layer_2_size],\n",
    "                                                             stddev=hidden_layer_2_stddev))\n",
    "    hidden_layer_2_biases = tf.Variable(tf.zeros([hidden_layer_2_size]))\n",
    "\n",
    "    # third hidden layer\n",
    "    hidden_layer_3_weights = tf.Variable(tf.truncated_normal([hidden_layer_2_size, hidden_layer_3_size],\n",
    "                                                             stddev=hidden_layer_3_stddev))\n",
    "    hidden_layer_3_biases = tf.Variable(tf.zeros([hidden_layer_3_size]))\n",
    "\n",
    "    # output layer\n",
    "    output_weights = tf.Variable(tf.truncated_normal([hidden_layer_3_size, num_labels],stddev=output_layer_stddev))\n",
    "    output_biases = tf.Variable(tf.zeros([num_labels]))\n",
    "\n",
    "    def forward_prop(input, is_drop=False):\n",
    "        # This can also be refactored.\n",
    "        h1 = tf.nn.relu(tf.matmul(input, hidden_layer_1_weights) + hidden_layer_1_biases)\n",
    "        if is_drop:\n",
    "            h1 = tf.nn.dropout(h1, hidden_layer_1_keep_prob)\n",
    "        h2 = tf.nn.relu(tf.matmul(h1, hidden_layer_2_weights) + hidden_layer_2_biases)\n",
    "        if is_drop:\n",
    "            h2 = tf.nn.dropout(h2, hidden_layer_2_keep_prob)\n",
    "        h3 = tf.nn.relu(tf.matmul(h2, hidden_layer_3_weights) + hidden_layer_3_biases)\n",
    "        if is_drop:\n",
    "            h3 = tf.nn.dropout(h3, hidden_layer_3_keep_prob)\n",
    "        return tf.matmul(h3, output_weights) + output_biases\n",
    "\n",
    "    logits = forward_prop(tf_train_dataset, is_drop=True)\n",
    "\n",
    "    # Calculate the loss with regularization\n",
    "    loss = tf.reduce_mean(tf.nn.softmax_cross_entropy_with_logits(logits, tf_train_labels))\n",
    "    loss += (beta_1 * tf.nn.l2_loss(hidden_layer_1_weights) +\n",
    "           beta_2 * tf.nn.l2_loss(hidden_layer_2_weights) +\n",
    "           beta_3 * tf.nn.l2_loss(hidden_layer_3_weights) +\n",
    "           beta_4 * tf.nn.l2_loss(output_weights))\n",
    "\n",
    "    # Learn with exponential rate decay.\n",
    "    global_step = tf.Variable(0, trainable=False)\n",
    "    starter_learning_rate = 0.4\n",
    "    learning_rate = tf.train.exponential_decay(starter_learning_rate, global_step, 100000, 0.96, staircase=True)\n",
    "    #learning_rate = 0.1\n",
    "    optimizer = tf.train.GradientDescentOptimizer(learning_rate).minimize(loss, global_step=global_step)\n",
    "\n",
    "    train_prediction = tf.nn.softmax(logits)\n",
    "    validation_prediction = tf.nn.softmax(forward_prop(tf_valid_dataset))\n",
    "    test_prediction = tf.nn.softmax(forward_prop(tf_test_dataset))"
   ]
  },
  {
   "cell_type": "code",
   "execution_count": null,
   "metadata": {
    "collapsed": false
   },
   "outputs": [
    {
     "name": "stdout",
     "output_type": "stream",
     "text": [
      "Initialized\n",
      "Minibatch loss at step 0: 2.846722\n",
      "Minibatch accuracy: 7.8%\n",
      "Validation accuracy: 19.6%\n"
     ]
    }
   ],
   "source": [
    "num_steps = 50000\n",
    "\n",
    "with tf.Session(graph=deep_graph) as session:\n",
    "  tf.initialize_all_variables().run()\n",
    "  print(\"Initialized\")\n",
    "  for step in range(num_steps):\n",
    "    offset = (step * batch_size) % (train_labels.shape[0] - batch_size)\n",
    "    batch_data = train_dataset[offset:(offset + batch_size), :]\n",
    "    batch_labels = train_labels[offset:(offset + batch_size), :]\n",
    "    feed_dict = {tf_train_dataset : batch_data, tf_train_labels : batch_labels}\n",
    "    _, l, predictions = session.run([optimizer, loss, train_prediction], feed_dict=feed_dict)\n",
    "    if (step % 5000 == 0):\n",
    "      print(\"Minibatch loss at step %d: %f\" % (step, l))\n",
    "      print(\"Minibatch accuracy: %.1f%%\" % accuracy(predictions, batch_labels))\n",
    "      print(\"Validation accuracy: %.1f%%\" % accuracy(validation_prediction.eval(), valid_labels))\n",
    "  print(\"  Test accuracy: %.1f%%\" % accuracy(test_prediction.eval(), test_labels))"
   ]
  }
 ],
 "metadata": {
  "anaconda-cloud": {},
  "colab": {
   "default_view": {},
   "name": "3_regularization.ipynb",
   "provenance": [],
   "version": "0.3.2",
   "views": {}
  },
  "kernelspec": {
   "display_name": "Python [default]",
   "language": "python",
   "name": "python2"
  },
  "language_info": {
   "codemirror_mode": {
    "name": "ipython",
    "version": 2
   },
   "file_extension": ".py",
   "mimetype": "text/x-python",
   "name": "python",
   "nbconvert_exporter": "python",
   "pygments_lexer": "ipython2",
   "version": "2.7.12"
  }
 },
 "nbformat": 4,
 "nbformat_minor": 0
}
